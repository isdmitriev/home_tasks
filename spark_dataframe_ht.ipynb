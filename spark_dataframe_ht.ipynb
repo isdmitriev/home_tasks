{
 "cells": [
  {
   "cell_type": "code",
   "execution_count": 1,
   "metadata": {
    "collapsed": true,
    "pycharm": {
     "name": "#%%\n"
    }
   },
   "outputs": [],
   "source": [
    "from pyspark.sql import SparkSession, functions as F, types as T"
   ]
  },
  {
   "cell_type": "code",
   "execution_count": 2,
   "outputs": [],
   "source": [
    "spark = SparkSession.builder.master(\"local[*]\").getOrCreate()"
   ],
   "metadata": {
    "collapsed": false,
    "pycharm": {
     "name": "#%%\n"
    }
   }
  },
  {
   "cell_type": "code",
   "execution_count": 3,
   "outputs": [
    {
     "name": "stdout",
     "output_type": "stream",
     "text": [
      "3.5.0\n"
     ]
    }
   ],
   "source": [
    "print(spark.version)"
   ],
   "metadata": {
    "collapsed": false,
    "pycharm": {
     "name": "#%%\n"
    }
   }
  },
  {
   "cell_type": "code",
   "execution_count": 4,
   "outputs": [],
   "source": [
    "actor_df = spark.read.csv(\"./data/actor.csv\", header=True, inferSchema=True)\n",
    "address_df = spark.read.csv(\"./data/address.csv\", header=True, inferSchema=True)\n",
    "category_df = spark.read.csv(\"./data/category.csv\", header=True, inferSchema=True)\n",
    "city_df = spark.read.csv(\"./data/city.csv\", header=True, inferSchema=True)\n",
    "country_df = spark.read.csv(\"./data/country.csv\", header=True, inferSchema=True)\n",
    "customer_df = spark.read.csv(\"./data/customer.csv\", header=True, inferSchema=True)\n",
    "film_df = spark.read.csv(\"./data/film.csv\", header=True, inferSchema=True)\n",
    "film_actor_df = spark.read.csv(\"./data/film_actor.csv\", header=True, inferSchema=True)\n",
    "film_category_df = spark.read.csv(\n",
    "    \"./data/film_category.csv\", header=True, inferSchema=True\n",
    ")\n",
    "inventory_df = spark.read.csv(\"./data/inventory.csv\", header=True, inferSchema=True)\n",
    "language_df = spark.read.csv(\"./data/language.csv\", header=True, inferSchema=True)\n",
    "payment_df = spark.read.csv(\"./data/payment.csv\", header=True, inferSchema=True)\n",
    "rental_df = spark.read.csv(\"./data/rental.csv\", header=True, inferSchema=True)\n",
    "staff_df = spark.read.csv(\"./data/staff.csv\", header=True, inferSchema=True)\n",
    "store_df = spark.read.csv(\"./data/store.csv\", header=True, inferSchema=True)"
   ],
   "metadata": {
    "collapsed": false,
    "pycharm": {
     "name": "#%%\n"
    }
   }
  },
  {
   "cell_type": "markdown",
   "source": [
    "# Домашнє завдання на тему Spark SQL\n",
    "\n",
    "Задачі з домашнього завдання на SQL потрібно розвʼязати за допомогою Spark SQL DataFrame API.\n",
    "\n",
    "- Дампи таблиць знаходяться в папці `data`. Датафрейми таблиць вже створені в клітинці вище.\n",
    "- Можете створювати стільки нових клітинок, скільки вам необхідно.\n",
    "- Розвʼязок кожної задачі має бути відображений в самому файлі (використати метод `.show()`)\n",
    "- код має бути оформлений у відповідності із одним із стилем, показаним лектором на занятті 13.\n",
    "\n",
    "**Увага!**\n",
    "Використовувати мову запитів SQL безпосередньо забороняється, потрібно використовувати виключно DataFrame API!\n"
   ],
   "metadata": {
    "collapsed": false,
    "pycharm": {
     "name": "#%% md\n"
    }
   }
  },
  {
   "cell_type": "markdown",
   "source": [
    "1.\n",
    "Вивести кількість фільмів в кожній категорії.\n",
    "Результат відсортувати за спаданням."
   ],
   "metadata": {
    "collapsed": false,
    "pycharm": {
     "name": "#%% md\n"
    }
   }
  },
  {
   "cell_type": "code",
   "execution_count": 5,
   "outputs": [],
   "source": [
    "category_films_df = category_df.join(\n",
    "    film_category_df, [category_df.category_id == film_category_df.category_id]\n",
    ").drop(film_category_df.category_id)"
   ],
   "metadata": {
    "collapsed": false,
    "pycharm": {
     "name": "#%%\n"
    }
   }
  },
  {
   "cell_type": "code",
   "execution_count": 6,
   "outputs": [
    {
     "name": "stdout",
     "output_type": "stream",
     "text": [
      "+-----------+---------------------+\n",
      "|       name|category_films_amount|\n",
      "+-----------+---------------------+\n",
      "|     Horror|                   56|\n",
      "|     Sci-Fi|                   61|\n",
      "|     Action|                   64|\n",
      "|   Classics|                   57|\n",
      "|   Children|                   60|\n",
      "|Documentary|                   68|\n",
      "|     Family|                   69|\n",
      "|     Sports|                   74|\n",
      "|  Animation|                   66|\n",
      "|      Games|                   61|\n",
      "|    Foreign|                   73|\n",
      "|     Comedy|                   58|\n",
      "|      Drama|                   62|\n",
      "|        New|                   63|\n",
      "|     Travel|                   57|\n",
      "|      Music|                   51|\n",
      "+-----------+---------------------+\n",
      "\n"
     ]
    }
   ],
   "source": [
    "category_films_df.groupBy(\"category_id\", \"name\").agg(\n",
    "    F.count(\"*\").alias(\"category_films_amount\")\n",
    ").select(\"name\", \"category_films_amount\").show()"
   ],
   "metadata": {
    "collapsed": false,
    "pycharm": {
     "name": "#%%\n"
    }
   }
  },
  {
   "cell_type": "markdown",
   "source": [
    "2.\n",
    "Вивести 10 акторів, чиї фільми брали на прокат найбільше.\n",
    "Результат відсортувати за спаданням."
   ],
   "metadata": {
    "collapsed": false,
    "pycharm": {
     "name": "#%% md\n"
    }
   }
  },
  {
   "cell_type": "code",
   "execution_count": 7,
   "outputs": [],
   "source": [
    "rental_inventory_df = rental_df.join(\n",
    "    inventory_df, [rental_df.inventory_id == inventory_df.inventory_id]\n",
    ").drop(rental_df.inventory_id)"
   ],
   "metadata": {
    "collapsed": false,
    "pycharm": {
     "name": "#%%\n"
    }
   }
  },
  {
   "cell_type": "code",
   "execution_count": 8,
   "outputs": [],
   "source": [
    "rental_film_df = (\n",
    "    rental_inventory_df.join(film_df, rental_inventory_df.film_id == film_df.film_id)\n",
    "    .drop(rental_inventory_df.film_id)\n",
    "    .select(\"rental_id\", \"title\", \"film_id\", \"rental_date\")\n",
    ")"
   ],
   "metadata": {
    "collapsed": false,
    "pycharm": {
     "name": "#%%\n"
    }
   }
  },
  {
   "cell_type": "code",
   "execution_count": 9,
   "outputs": [],
   "source": [
    "rental_film_actors_df = rental_film_df.join(\n",
    "    film_actor_df, rental_film_df.film_id == film_actor_df.film_id\n",
    ").drop(film_actor_df.film_id)"
   ],
   "metadata": {
    "collapsed": false,
    "pycharm": {
     "name": "#%%\n"
    }
   }
  },
  {
   "cell_type": "code",
   "execution_count": 10,
   "outputs": [],
   "source": [
    "rental_actors_df = rental_film_actors_df.join(\n",
    "    actor_df, rental_film_actors_df.actor_id == actor_df.actor_id\n",
    ").drop(actor_df.actor_id)"
   ],
   "metadata": {
    "collapsed": false,
    "pycharm": {
     "name": "#%%\n"
    }
   }
  },
  {
   "cell_type": "code",
   "execution_count": 11,
   "outputs": [
    {
     "name": "stdout",
     "output_type": "stream",
     "text": [
      "+----------+-----------+--------------------+\n",
      "|first_name|  last_name|actor_rentals_amount|\n",
      "+----------+-----------+--------------------+\n",
      "|      GINA|  DEGENERES|                 753|\n",
      "|   MATTHEW|     CARREY|                 678|\n",
      "|      MARY|     KEITEL|                 674|\n",
      "|    ANGELA|WITHERSPOON|                 654|\n",
      "|    WALTER|       TORN|                 640|\n",
      "|     HENRY|      BERRY|                 612|\n",
      "|     JAYNE|      NOLTE|                 611|\n",
      "|       VAL|     BOLGER|                 605|\n",
      "|    SANDRA|     KILMER|                 604|\n",
      "|      SEAN|    GUINESS|                 599|\n",
      "+----------+-----------+--------------------+\n",
      "only showing top 10 rows\n",
      "\n"
     ]
    }
   ],
   "source": [
    "actor_rentls_amount_df = (\n",
    "    rental_actors_df.groupBy(\"actor_id\", \"first_name\", \"last_name\")\n",
    "    .agg(F.count(\"*\").alias(\"actor_rentals_amount\"))\n",
    "    .select(\"first_name\", \"last_name\", \"actor_rentals_amount\")\n",
    "    .sort(F.col(\"actor_rentals_amount\").desc())\n",
    "    .show(10)\n",
    ")"
   ],
   "metadata": {
    "collapsed": false,
    "pycharm": {
     "name": "#%%\n"
    }
   }
  },
  {
   "cell_type": "markdown",
   "source": [
    "3.\n",
    "Вивести категорія фільмів, на яку було витрачено найбільше грошей\n",
    "в прокаті"
   ],
   "metadata": {
    "collapsed": false,
    "pycharm": {
     "name": "#%% md\n"
    }
   }
  },
  {
   "cell_type": "code",
   "execution_count": 12,
   "outputs": [],
   "source": [
    "rental_film_category_df = rental_film_df.join(\n",
    "    film_category_df, rental_film_df.film_id == film_category_df.film_id\n",
    ").drop(film_category_df.film_id)"
   ],
   "metadata": {
    "collapsed": false,
    "pycharm": {
     "name": "#%%\n"
    }
   }
  },
  {
   "cell_type": "code",
   "execution_count": 13,
   "outputs": [],
   "source": [
    "rental_film_category_with_names = rental_film_category_df.join(\n",
    "    category_df, rental_film_category_df.category_id == category_df.category_id\n",
    ").drop(category_df.category_id)"
   ],
   "metadata": {
    "collapsed": false,
    "pycharm": {
     "name": "#%%\n"
    }
   }
  },
  {
   "cell_type": "code",
   "execution_count": 14,
   "outputs": [],
   "source": [
    "rental_category_payments_df = (\n",
    "    rental_film_category_with_names.join(\n",
    "        payment_df, rental_film_category_with_names.rental_id == payment_df.rental_id\n",
    "    )\n",
    "    .drop(payment_df.rental_id)\n",
    "    .select(\"rental_id\", \"name\", \"amount\", \"title\")\n",
    ")"
   ],
   "metadata": {
    "collapsed": false,
    "pycharm": {
     "name": "#%%\n"
    }
   }
  },
  {
   "cell_type": "code",
   "execution_count": 15,
   "outputs": [
    {
     "name": "stdout",
     "output_type": "stream",
     "text": [
      "+------+\n",
      "|  name|\n",
      "+------+\n",
      "|Sports|\n",
      "+------+\n",
      "only showing top 1 row\n",
      "\n"
     ]
    }
   ],
   "source": [
    "category_payments_amount_df = (\n",
    "    rental_category_payments_df.groupBy(\"name\")\n",
    "    .agg(F.sum(\"amount\").alias(\"category_moneys_amount\"))\n",
    "    .select(\"name\")\n",
    "    .sort(F.col(\"category_moneys_amount\").desc())\n",
    "    .show(1)\n",
    ")"
   ],
   "metadata": {
    "collapsed": false,
    "pycharm": {
     "name": "#%%\n"
    }
   }
  },
  {
   "cell_type": "markdown",
   "source": [
    "4.\n",
    "Вивести назви фільмів, яких не має в inventory."
   ],
   "metadata": {
    "collapsed": false,
    "pycharm": {
     "name": "#%% md\n"
    }
   }
  },
  {
   "cell_type": "code",
   "execution_count": 16,
   "outputs": [
    {
     "name": "stdout",
     "output_type": "stream",
     "text": [
      "+--------------------+\n",
      "|          film_title|\n",
      "+--------------------+\n",
      "|      ALICE FANTASIA|\n",
      "|         APOLLO TEEN|\n",
      "|      ARGONAUTS TOWN|\n",
      "|       ARK RIDGEMONT|\n",
      "|ARSENIC INDEPENDENCE|\n",
      "|   BOONDOCK BALLROOM|\n",
      "|       BUTCH PANTHER|\n",
      "|       CATCH AMISTAD|\n",
      "| CHINATOWN GLADIATOR|\n",
      "|      CHOCOLATE DUCK|\n",
      "|COMMANDMENTS EXPRESS|\n",
      "|    CROSSING DIVORCE|\n",
      "|     CROWDS TELEMARK|\n",
      "|    CRYSTAL BREAKING|\n",
      "|          DAZED PUNK|\n",
      "|DELIVERANCE MULHO...|\n",
      "|   FIREHOUSE VIETNAM|\n",
      "|       FLOATS GARDEN|\n",
      "|FRANKENSTEIN STRA...|\n",
      "|  GLADIATOR WESTWARD|\n",
      "+--------------------+\n",
      "only showing top 20 rows\n",
      "\n"
     ]
    }
   ],
   "source": [
    "film_inventorys_df = (\n",
    "    film_df.join(inventory_df, film_df.film_id == inventory_df.film_id, \"left\")\n",
    "    .drop(inventory_df.film_id)\n",
    "    .select(F.col(\"title\").alias(\"film_title\"))\n",
    "    .filter(F.col(\"inventory_id\").isNull() == True)\n",
    "    .show()\n",
    ")"
   ],
   "metadata": {
    "collapsed": false,
    "pycharm": {
     "name": "#%%\n"
    }
   }
  },
  {
   "cell_type": "markdown",
   "source": [
    "5.\n",
    "Вивести топ 3 актори, які найбільше зʼявлялись в категорії фільмів “Children”"
   ],
   "metadata": {
    "collapsed": false,
    "pycharm": {
     "name": "#%% md\n"
    }
   }
  },
  {
   "cell_type": "code",
   "execution_count": 17,
   "outputs": [],
   "source": [
    "film_categorys_df = (\n",
    "    film_df.join(film_category_df, film_df.film_id == film_category_df.film_id)\n",
    "    .drop(film_category_df.film_id)\n",
    "    .select(\"film_id\", \"category_id\", \"title\", \"description\")\n",
    ")"
   ],
   "metadata": {
    "collapsed": false,
    "pycharm": {
     "name": "#%%\n"
    }
   }
  },
  {
   "cell_type": "code",
   "execution_count": 18,
   "outputs": [],
   "source": [
    "films_with_categorys_df = film_categorys_df.join(\n",
    "    category_df, film_categorys_df.category_id == category_df.category_id\n",
    ").drop(category_df.category_id)"
   ],
   "metadata": {
    "collapsed": false,
    "pycharm": {
     "name": "#%%\n"
    }
   }
  },
  {
   "cell_type": "code",
   "execution_count": 19,
   "outputs": [],
   "source": [
    "films_with_actors_df = films_with_categorys_df.join(\n",
    "    film_actor_df, films_with_categorys_df.film_id == film_actor_df.film_id\n",
    ").drop(film_actor_df.film_id)"
   ],
   "metadata": {
    "collapsed": false,
    "pycharm": {
     "name": "#%%\n"
    }
   }
  },
  {
   "cell_type": "code",
   "execution_count": 20,
   "outputs": [],
   "source": [
    "films_data_full_df = (\n",
    "    films_with_actors_df.join(\n",
    "        actor_df, films_with_actors_df.actor_id == actor_df.actor_id\n",
    "    )\n",
    "    .drop(actor_df.actor_id)\n",
    "    .select(\"title\", \"name\", \"actor_id\", \"first_name\", \"last_name\", \"film_id\")\n",
    "    .filter(F.col(\"name\") == \"Children\")\n",
    ")"
   ],
   "metadata": {
    "collapsed": false,
    "pycharm": {
     "name": "#%%\n"
    }
   }
  },
  {
   "cell_type": "code",
   "execution_count": 21,
   "outputs": [],
   "source": [
    "actors_in_children_category_df = (\n",
    "    films_data_full_df.groupBy(\"actor_id\", \"first_name\", \"last_name\")\n",
    "    .agg(F.count(\"*\").alias(\"actor_films_amount\"))\n",
    "    .select(\"first_name\", \"last_name\", \"actor_films_amount\")\n",
    ")"
   ],
   "metadata": {
    "collapsed": false,
    "pycharm": {
     "name": "#%%\n"
    }
   }
  },
  {
   "cell_type": "code",
   "execution_count": 22,
   "outputs": [
    {
     "name": "stdout",
     "output_type": "stream",
     "text": [
      "+----------+---------+------------------+\n",
      "|first_name|last_name|actor_films_amount|\n",
      "+----------+---------+------------------+\n",
      "|     HELEN|   VOIGHT|                 7|\n",
      "|     KEVIN|  GARLAND|                 5|\n",
      "|     RALPH|     CRUZ|                 5|\n",
      "+----------+---------+------------------+\n",
      "only showing top 3 rows\n",
      "\n"
     ]
    }
   ],
   "source": [
    "actors_in_children_category_df.sort(F.col(\"actor_films_amount\").desc()).show(3)"
   ],
   "metadata": {
    "collapsed": false,
    "pycharm": {
     "name": "#%%\n"
    }
   }
  },
  {
   "cell_type": "code",
   "execution_count": 22,
   "metadata": {
    "collapsed": false,
    "pycharm": {
     "name": "#%%\n"
    }
   },
   "outputs": [],
   "source": []
  },
  {
   "cell_type": "markdown",
   "metadata": {
    "collapsed": false,
    "pycharm": {
     "name": "#%% md\n"
    }
   },
   "source": [
    "Stop Spark session:"
   ]
  },
  {
   "cell_type": "code",
   "execution_count": 23,
   "metadata": {
    "collapsed": false,
    "pycharm": {
     "name": "#%%\n"
    }
   },
   "outputs": [],
   "source": [
    "spark.stop()"
   ]
  }
 ],
 "metadata": {
  "kernelspec": {
   "display_name": "Python 3",
   "language": "python",
   "name": "python3"
  },
  "language_info": {
   "codemirror_mode": {
    "name": "ipython",
    "version": 2
   },
   "file_extension": ".py",
   "mimetype": "text/x-python",
   "name": "python",
   "nbconvert_exporter": "python",
   "pygments_lexer": "ipython2",
   "version": "2.7.6"
  }
 },
 "nbformat": 4,
 "nbformat_minor": 0
}